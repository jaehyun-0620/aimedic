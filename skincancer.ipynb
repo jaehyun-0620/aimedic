{
  "nbformat": 4,
  "nbformat_minor": 0,
  "metadata": {
    "colab": {
      "provenance": [],
      "gpuType": "T4",
      "mount_file_id": "1rEoF6nedLqZwhYbFXnX4roxwipPMdD5C",
      "authorship_tag": "ABX9TyM2n8waY6bqZbUpWQzOjHFb",
      "include_colab_link": true
    },
    "kernelspec": {
      "name": "python3",
      "display_name": "Python 3"
    },
    "language_info": {
      "name": "python"
    },
    "accelerator": "GPU"
  },
  "cells": [
    {
      "cell_type": "markdown",
      "metadata": {
        "id": "view-in-github",
        "colab_type": "text"
      },
      "source": [
        "<a href=\"https://colab.research.google.com/github/jaehyun-0620/aimedic/blob/main/skincancer.ipynb\" target=\"_parent\"><img src=\"https://colab.research.google.com/assets/colab-badge.svg\" alt=\"Open In Colab\"/></a>"
      ]
    },
    {
      "cell_type": "code",
      "execution_count": 2,
      "metadata": {
        "id": "26Z6cp7d5Ftt"
      },
      "outputs": [],
      "source": [
        "import os\n",
        "# Kaggle API 키를 Colab에서 사용할 수 있도록 설정\n",
        "os.makedirs('/root/.kaggle', exist_ok=True)\n",
        "!cp /content/drive/MyDrive/kaggle.json /root/.kaggle/\n",
        "!chmod 600 /root/.kaggle/kaggle.json"
      ]
    },
    {
      "cell_type": "code",
      "source": [
        "!kaggle competitions download -c isic-2024-challenge"
      ],
      "metadata": {
        "colab": {
          "base_uri": "https://localhost:8080/"
        },
        "id": "WX4R5PLm6BxJ",
        "outputId": "643e9de8-2f8f-4b16-dc7a-1cc4b79f7e43"
      },
      "execution_count": 3,
      "outputs": [
        {
          "output_type": "stream",
          "name": "stdout",
          "text": [
            "Downloading isic-2024-challenge.zip to /content\n",
            " 43% 886M/2.00G [00:07<00:10, 117MB/s]\n",
            "User cancelled operation\n"
          ]
        }
      ]
    },
    {
      "cell_type": "code",
      "source": [
        "!mkdir -p /content/drive/MyDrive/kaggle_datasets\n",
        "!mv isic-2024-challenge.zip /content/drive/MyDrive/kaggle_datasets/\n"
      ],
      "metadata": {
        "colab": {
          "base_uri": "https://localhost:8080/"
        },
        "id": "NJqhMHcZ6MId",
        "outputId": "e91df14b-b019-43c6-c25b-c5b352d5942c"
      },
      "execution_count": 4,
      "outputs": [
        {
          "output_type": "stream",
          "name": "stdout",
          "text": [
            "^C\n"
          ]
        }
      ]
    },
    {
      "cell_type": "code",
      "source": [
        "!unzip /content/drive/MyDrive/kaggle_datasets/isic-2024-challenge.zip -d /content/extracted/\n"
      ],
      "metadata": {
        "colab": {
          "base_uri": "https://localhost:8080/"
        },
        "collapsed": true,
        "id": "w2lmlWhI6fN6",
        "outputId": "6e8a9f78-9b24-4981-9fcd-fc6257e8a979"
      },
      "execution_count": 5,
      "outputs": [
        {
          "output_type": "stream",
          "name": "stdout",
          "text": [
            "Archive:  /content/drive/MyDrive/kaggle_datasets/isic-2024-challenge.zip\n",
            "  End-of-central-directory signature not found.  Either this file is not\n",
            "  a zipfile, or it constitutes one disk of a multi-part archive.  In the\n",
            "  latter case the central directory and zipfile comment will be found on\n",
            "  the last disk(s) of this archive.\n",
            "unzip:  cannot find zipfile directory in one of /content/drive/MyDrive/kaggle_datasets/isic-2024-challenge.zip or\n",
            "        /content/drive/MyDrive/kaggle_datasets/isic-2024-challenge.zip.zip, and cannot find /content/drive/MyDrive/kaggle_datasets/isic-2024-challenge.zip.ZIP, period.\n"
          ]
        }
      ]
    },
    {
      "cell_type": "code",
      "source": [
        "import os\n",
        "import pandas as pd\n",
        "import numpy as np\n",
        "from sklearn.model_selection import train_test_split\n",
        "import tensorflow as tf\n",
        "from tensorflow.keras.preprocessing.image import load_img, img_to_array\n",
        "from tqdm import tqdm\n"
      ],
      "metadata": {
        "id": "zY3RPW867Sh4"
      },
      "execution_count": 7,
      "outputs": []
    },
    {
      "cell_type": "code",
      "source": [
        "data_dir = '/content/extracted/train-image/image/'\n",
        "csv_path = '/content/extracted/train-metadata.csv'\n",
        "\n",
        "metadata = pd.read_csv(csv_path)\n",
        "\n",
        "# 이미지 경로 생성\n",
        "metadata['image_path'] = metadata['isic_id'].apply(lambda x: os.path.join(data_dir, f\"{x}.jpg\"))\n",
        "\n",
        "# 결과 확인\n",
        "print(metadata.head())\n",
        "\n"
      ],
      "metadata": {
        "colab": {
          "base_uri": "https://localhost:8080/"
        },
        "id": "rmpKFOVQ9kRw",
        "outputId": "c4d1f05b-5056-400f-9509-622e9cffa801"
      },
      "execution_count": 9,
      "outputs": [
        {
          "output_type": "stream",
          "name": "stderr",
          "text": [
            "<ipython-input-9-2620895861f3>:4: DtypeWarning: Columns (51,52) have mixed types. Specify dtype option on import or set low_memory=False.\n",
            "  metadata = pd.read_csv(csv_path)\n"
          ]
        },
        {
          "output_type": "stream",
          "name": "stdout",
          "text": [
            "        isic_id  target  patient_id  age_approx   sex anatom_site_general  \\\n",
            "0  ISIC_0015670       0  IP_1235828        60.0  male     lower extremity   \n",
            "1  ISIC_0015845       0  IP_8170065        60.0  male           head/neck   \n",
            "2  ISIC_0015864       0  IP_6724798        60.0  male     posterior torso   \n",
            "3  ISIC_0015902       0  IP_4111386        65.0  male      anterior torso   \n",
            "4  ISIC_0024200       0  IP_8313778        55.0  male      anterior torso   \n",
            "\n",
            "   clin_size_long_diam_mm          image_type tbp_tile_type   tbp_lv_A  ...  \\\n",
            "0                    3.04  TBP tile: close-up     3D: white  20.244422  ...   \n",
            "1                    1.10  TBP tile: close-up     3D: white  31.712570  ...   \n",
            "2                    3.40  TBP tile: close-up        3D: XP  22.575830  ...   \n",
            "3                    3.22  TBP tile: close-up        3D: XP  14.242329  ...   \n",
            "4                    2.73  TBP tile: close-up     3D: white  24.725520  ...   \n",
            "\n",
            "   iddx_full  iddx_1  iddx_2  iddx_3  iddx_4  iddx_5  mel_mitotic_index  \\\n",
            "0     Benign  Benign     NaN     NaN     NaN     NaN                NaN   \n",
            "1     Benign  Benign     NaN     NaN     NaN     NaN                NaN   \n",
            "2     Benign  Benign     NaN     NaN     NaN     NaN                NaN   \n",
            "3     Benign  Benign     NaN     NaN     NaN     NaN                NaN   \n",
            "4     Benign  Benign     NaN     NaN     NaN     NaN                NaN   \n",
            "\n",
            "   mel_thick_mm  tbp_lv_dnn_lesion_confidence  \\\n",
            "0           NaN                     97.517282   \n",
            "1           NaN                      3.141455   \n",
            "2           NaN                     99.804040   \n",
            "3           NaN                     99.989998   \n",
            "4           NaN                     70.442510   \n",
            "\n",
            "                                          image_path  \n",
            "0  /content/extracted/train-image/image/ISIC_0015...  \n",
            "1  /content/extracted/train-image/image/ISIC_0015...  \n",
            "2  /content/extracted/train-image/image/ISIC_0015...  \n",
            "3  /content/extracted/train-image/image/ISIC_0015...  \n",
            "4  /content/extracted/train-image/image/ISIC_0024...  \n",
            "\n",
            "[5 rows x 56 columns]\n"
          ]
        }
      ]
    },
    {
      "cell_type": "code",
      "source": [
        "# 경로 유효성 검사\n",
        "metadata['path_exists'] = metadata['image_path'].apply(os.path.exists)\n",
        "\n",
        "# 누락된 경로 확인\n",
        "missing_files = metadata[~metadata['path_exists']]\n",
        "print(f\"Missing files: {len(missing_files)}\")\n",
        "print(missing_files[['isic_id', 'image_path']])"
      ],
      "metadata": {
        "id": "loSsntKW-oDN"
      },
      "execution_count": null,
      "outputs": []
    },
    {
      "cell_type": "code",
      "source": [
        "# 업데이트된 CSV 저장\n",
        "metadata.to_csv('/content/extracted/train_metadata_with_paths.csv', index=False)\n"
      ],
      "metadata": {
        "colab": {
          "base_uri": "https://localhost:8080/",
          "height": 176
        },
        "id": "gWTlOZwL-563",
        "outputId": "477bbf39-74e1-4d74-89cd-0ad3a96593f3"
      },
      "execution_count": 8,
      "outputs": [
        {
          "output_type": "error",
          "ename": "NameError",
          "evalue": "name 'metadata' is not defined",
          "traceback": [
            "\u001b[0;31m---------------------------------------------------------------------------\u001b[0m",
            "\u001b[0;31mNameError\u001b[0m                                 Traceback (most recent call last)",
            "\u001b[0;32m<ipython-input-8-34e9d535c8a2>\u001b[0m in \u001b[0;36m<cell line: 2>\u001b[0;34m()\u001b[0m\n\u001b[1;32m      1\u001b[0m \u001b[0;31m# 업데이트된 CSV 저장\u001b[0m\u001b[0;34m\u001b[0m\u001b[0;34m\u001b[0m\u001b[0m\n\u001b[0;32m----> 2\u001b[0;31m \u001b[0mmetadata\u001b[0m\u001b[0;34m.\u001b[0m\u001b[0mto_csv\u001b[0m\u001b[0;34m(\u001b[0m\u001b[0;34m'/content/extracted/train_metadata_with_paths.csv'\u001b[0m\u001b[0;34m,\u001b[0m \u001b[0mindex\u001b[0m\u001b[0;34m=\u001b[0m\u001b[0;32mFalse\u001b[0m\u001b[0;34m)\u001b[0m\u001b[0;34m\u001b[0m\u001b[0;34m\u001b[0m\u001b[0m\n\u001b[0m",
            "\u001b[0;31mNameError\u001b[0m: name 'metadata' is not defined"
          ]
        }
      ]
    },
    {
      "cell_type": "markdown",
      "source": [],
      "metadata": {
        "id": "eco2f7Hn-LZ2"
      }
    },
    {
      "cell_type": "code",
      "source": [],
      "metadata": {
        "id": "c0BFs9R0ASk-"
      },
      "execution_count": null,
      "outputs": []
    },
    {
      "cell_type": "markdown",
      "source": [],
      "metadata": {
        "id": "hb59NpT5_Pa8"
      }
    },
    {
      "cell_type": "code",
      "source": [],
      "metadata": {
        "id": "KXL4H9y6AVc_"
      },
      "execution_count": null,
      "outputs": []
    },
    {
      "cell_type": "code",
      "source": [
        "print(metadata.head())"
      ],
      "metadata": {
        "id": "KFArUPUa_Ude"
      },
      "execution_count": null,
      "outputs": []
    },
    {
      "cell_type": "code",
      "source": [
        "# target 값 분포 확인\n",
        "print(metadata['target'].value_counts())\n",
        "\n",
        "# 시각화\n",
        "import matplotlib.pyplot as plt\n",
        "\n",
        "metadata['target'].value_counts().plot(kind='bar')\n",
        "plt.title('Distribution of Malignant (1) and Benign (0)')\n",
        "plt.xlabel('Target (0=Benign, 1=Malignant)')\n",
        "plt.ylabel('Count')\n",
        "plt.show()"
      ],
      "metadata": {
        "colab": {
          "base_uri": "https://localhost:8080/",
          "height": 536
        },
        "id": "OXsIdBUVAWJh",
        "outputId": "5f0db0c0-6a1c-4c6a-d81f-1d2ec008e692"
      },
      "execution_count": 10,
      "outputs": [
        {
          "output_type": "stream",
          "name": "stdout",
          "text": [
            "target\n",
            "0    400666\n",
            "1       393\n",
            "Name: count, dtype: int64\n"
          ]
        },
        {
          "output_type": "display_data",
          "data": {
            "text/plain": [
              "<Figure size 640x480 with 1 Axes>"
            ],
            "image/png": "[encoded data removed]"
          },
          "metadata": {}
        }
      ]
    },
    {
      "cell_type": "code",
      "source": [
        "# 데이터의 10% 샘플링 (클래스 비율 유지)\n",
        "metadata_sampled = metadata.groupby('target', group_keys=False).apply(lambda x: x.sample(frac=0.1, random_state=42))\n",
        "\n",
        "# 확인\n",
        "print(f\"Original data size: {len(metadata)}\")\n",
        "print(f\"Sampled data size: {len(metadata_sampled)}\")\n",
        "print(metadata_sampled['target'].value_counts())"
      ],
      "metadata": {
        "colab": {
          "base_uri": "https://localhost:8080/"
        },
        "id": "YSbIUxnDCpC3",
        "outputId": "de131aaa-4b86-4275-e870-74d403078d4a"
      },
      "execution_count": 11,
      "outputs": [
        {
          "output_type": "stream",
          "name": "stdout",
          "text": [
            "Original data size: 401059\n",
            "Sampled data size: 40106\n",
            "target\n",
            "0    40067\n",
            "1       39\n",
            "Name: count, dtype: int64\n"
          ]
        },
        {
          "output_type": "stream",
          "name": "stderr",
          "text": [
            "<ipython-input-11-fbe449bdd92c>:2: DeprecationWarning: DataFrameGroupBy.apply operated on the grouping columns. This behavior is deprecated, and in a future version of pandas the grouping columns will be excluded from the operation. Either pass `include_groups=False` to exclude the groupings or explicitly select the grouping columns after groupby to silence this warning.\n",
            "  metadata_sampled = metadata.groupby('target', group_keys=False).apply(lambda x: x.sample(frac=0.1, random_state=42))\n"
          ]
        }
      ]
    },
    {
      "cell_type": "code",
      "source": [
        "from sklearn.model_selection import train_test_split\n",
        "\n",
        "# 전체 데이터를 훈련(60%) 및 임시 데이터(40%)로 나누기\n",
        "train_df, temp_df = train_test_split(metadata_sampled, test_size=0.4, stratify=metadata_sampled['target'], random_state=42)\n",
        "\n",
        "# 임시 데이터를 검증(20%) 및 테스트(20%)로 나누기\n",
        "val_df, test_df = train_test_split(temp_df, test_size=0.5, stratify=temp_df['target'], random_state=42)\n",
        "\n",
        "# 분리된 데이터 크기 확인\n",
        "print(f\"Train set size: {len(train_df)}\")\n",
        "print(f\"Validation set size: {len(val_df)}\")\n",
        "print(f\"Test set size: {len(test_df)}\")"
      ],
      "metadata": {
        "colab": {
          "base_uri": "https://localhost:8080/"
        },
        "id": "evvIyM7cBo15",
        "outputId": "76efe0b3-5ac2-4170-80e0-746513640ef7"
      },
      "execution_count": 12,
      "outputs": [
        {
          "output_type": "stream",
          "name": "stdout",
          "text": [
            "Train set size: 24063\n",
            "Validation set size: 8021\n",
            "Test set size: 8022\n"
          ]
        }
      ]
    },
    {
      "cell_type": "code",
      "source": [
        "# 클래스 분포 확인\n",
        "print(\"Training set class distribution:\")\n",
        "print(train_df['target'].value_counts())\n",
        "\n",
        "print(\"\\nValidation set class distribution:\")\n",
        "print(val_df['target'].value_counts())\n",
        "\n",
        "print(\"\\nTest set class distribution:\")\n",
        "print(test_df['target'].value_counts())"
      ],
      "metadata": {
        "id": "9oz2q_G-BuSM"
      },
      "execution_count": null,
      "outputs": []
    },
    {
      "cell_type": "code",
      "source": [
        "# 데이터의 10% 샘플링 (클래스 비율 유지)\n",
        "metadata_sampled = metadata.groupby('target', group_keys=False).apply(lambda x: x.sample(frac=0.1, random_state=42))\n",
        "\n",
        "# 확인\n",
        "print(f\"Original data size: {len(metadata)}\")\n",
        "print(f\"Sampled data size: {len(metadata_sampled)}\")\n",
        "print(metadata_sampled['target'].value_counts())"
      ],
      "metadata": {
        "id": "WHIC9PYVCcE6"
      },
      "execution_count": null,
      "outputs": []
    },
    {
      "cell_type": "code",
      "source": [
        "# 이미지 전처리 함수\n",
        "def preprocess_image(img_path, target_size=128):\n",
        "    img = load_img(img_path, target_size=(target_size, target_size))\n",
        "    img_array = img_to_array(img) / 255.0  # Normalize pixel values\n",
        "    return img_array\n",
        "\n",
        "# 데이터셋 생성 함수\n",
        "def create_dataset(dataframe):\n",
        "    images, labels = [], []\n",
        "    for _, row in tqdm(dataframe.iterrows(), total=len(dataframe)):\n",
        "        img_array = preprocess_image(row['image_path'], target_size=128)\n",
        "        images.append(img_array)\n",
        "        labels.append(row['target'])\n",
        "    return np.array(images), np.array(labels)\n",
        "\n",
        "# 각 데이터셋 생성\n",
        "train_images, train_labels = create_dataset(train_df)\n",
        "val_images, val_labels = create_dataset(val_df)\n",
        "test_images, test_labels = create_dataset(test_df)\n",
        "\n",
        "# 확인\n",
        "print(f\"Train images shape: {train_images.shape}, Train labels shape: {train_labels.shape}\")\n",
        "print(f\"Validation images shape: {val_images.shape}, Validation labels shape: {val_labels.shape}\")\n",
        "print(f\"Test images shape: {test_images.shape}, Test labels shape: {test_labels.shape}\")\n"
      ],
      "metadata": {
        "colab": {
          "base_uri": "https://localhost:8080/",
          "height": 211
        },
        "id": "mZR6XWieB5xT",
        "outputId": "3fb2ab17-d7ae-4f79-efa0-a31b121fdb27"
      },
      "execution_count": 1,
      "outputs": [
        {
          "output_type": "error",
          "ename": "NameError",
          "evalue": "name 'train_df' is not defined",
          "traceback": [
            "\u001b[0;31m---------------------------------------------------------------------------\u001b[0m",
            "\u001b[0;31mNameError\u001b[0m                                 Traceback (most recent call last)",
            "\u001b[0;32m<ipython-input-1-30cce74a58ec>\u001b[0m in \u001b[0;36m<cell line: 17>\u001b[0;34m()\u001b[0m\n\u001b[1;32m     15\u001b[0m \u001b[0;34m\u001b[0m\u001b[0m\n\u001b[1;32m     16\u001b[0m \u001b[0;31m# 각 데이터셋 생성\u001b[0m\u001b[0;34m\u001b[0m\u001b[0;34m\u001b[0m\u001b[0m\n\u001b[0;32m---> 17\u001b[0;31m \u001b[0mtrain_images\u001b[0m\u001b[0;34m,\u001b[0m \u001b[0mtrain_labels\u001b[0m \u001b[0;34m=\u001b[0m \u001b[0mcreate_dataset\u001b[0m\u001b[0;34m(\u001b[0m\u001b[0mtrain_df\u001b[0m\u001b[0;34m)\u001b[0m\u001b[0;34m\u001b[0m\u001b[0;34m\u001b[0m\u001b[0m\n\u001b[0m\u001b[1;32m     18\u001b[0m \u001b[0mval_images\u001b[0m\u001b[0;34m,\u001b[0m \u001b[0mval_labels\u001b[0m \u001b[0;34m=\u001b[0m \u001b[0mcreate_dataset\u001b[0m\u001b[0;34m(\u001b[0m\u001b[0mval_df\u001b[0m\u001b[0;34m)\u001b[0m\u001b[0;34m\u001b[0m\u001b[0;34m\u001b[0m\u001b[0m\n\u001b[1;32m     19\u001b[0m \u001b[0mtest_images\u001b[0m\u001b[0;34m,\u001b[0m \u001b[0mtest_labels\u001b[0m \u001b[0;34m=\u001b[0m \u001b[0mcreate_dataset\u001b[0m\u001b[0;34m(\u001b[0m\u001b[0mtest_df\u001b[0m\u001b[0;34m)\u001b[0m\u001b[0;34m\u001b[0m\u001b[0;34m\u001b[0m\u001b[0m\n",
            "\u001b[0;31mNameError\u001b[0m: name 'train_df' is not defined"
          ]
        }
      ]
    },
    {
      "cell_type": "code",
      "source": [
        "import os\n",
        "import pandas as pd\n",
        "from sklearn.model_selection import train_test_split\n",
        "from tensorflow.keras.preprocessing.image import load_img, img_to_array\n",
        "from tensorflow.keras.utils import to_categorical\n",
        "import numpy as np\n",
        "from tqdm import tqdm\n",
        "\n",
        "# 데이터 로드\n",
        "data_dir = '/content/extracted/train-image/image/'\n",
        "csv_path = '/content/extracted/train_metadata_with_paths.csv'\n",
        "metadata_path = os.path.join(data_dir, csv_path)\n",
        "metadata = pd.read_csv(metadata_path)\n",
        "\n",
        "# 데이터 샘플링 (10%)\n",
        "metadata_sampled = metadata.groupby('target', group_keys=False).apply(lambda x: x.sample(frac=0.1, random_state=42))\n",
        "\n",
        "print(f\"Original data size: {len(metadata)}\")\n",
        "print(f\"Sampled data size: {len(metadata_sampled)}\")\n",
        "\n",
        "# 데이터 분리\n",
        "train_df, temp_df = train_test_split(metadata_sampled, test_size=0.4, stratify=metadata_sampled['target'], random_state=42)\n",
        "val_df, test_df = train_test_split(temp_df, test_size=0.5, stratify=temp_df['target'], random_state=42)\n",
        "\n",
        "# 이미지 전처리 함수\n",
        "IMG_SIZE = 128\n",
        "def preprocess_image(img_path, target_size=IMG_SIZE):\n",
        "    img = load_img(img_path, target_size=(target_size, target_size))\n",
        "    img_array = img_to_array(img) / 255.0\n",
        "    return img_array\n",
        "\n",
        "def create_dataset(dataframe):\n",
        "    images, labels = [], []\n",
        "    for _, row in tqdm(dataframe.iterrows(), total=len(dataframe)):\n",
        "        img_array = preprocess_image(row['image_path'], target_size=IMG_SIZE)\n",
        "        images.append(img_array)\n",
        "        labels.append(row['target'])\n",
        "    return np.array(images), np.array(labels)\n",
        "\n",
        "# 데이터셋 생성\n",
        "train_images, train_labels = create_dataset(train_df)\n",
        "val_images, val_labels = create_dataset(val_df)\n",
        "test_images, test_labels = create_dataset(test_df)\n",
        "\n",
        "# 원-핫 인코딩\n",
        "train_labels_one_hot = to_categorical(train_labels, num_classes=2)\n",
        "val_labels_one_hot = to_categorical(val_labels, num_classes=2)\n",
        "test_labels_one_hot = to_categorical(test_labels, num_classes=2)\n",
        "\n",
        "print(f\"Train images shape: {train_images.shape}, Train labels shape: {train_labels.shape}\")\n",
        "print(f\"Validation images shape: {val_images.shape}, Validation labels shape: {val_labels.shape}\")\n",
        "print(f\"Test images shape: {test_images.shape}, Test labels shape: {test_labels.shape}\")\n"
      ],
      "metadata": {
        "colab": {
          "base_uri": "https://localhost:8080/"
        },
        "id": "3dvklhQVEO_W",
        "outputId": "d01c125a-2d4f-48d3-b3ac-ed16590a390d"
      },
      "execution_count": null,
      "outputs": [
        {
          "output_type": "stream",
          "name": "stderr",
          "text": [
            "<ipython-input-4-ae55a887d5ac>:13: DtypeWarning: Columns (51,52) have mixed types. Specify dtype option on import or set low_memory=False.\n",
            "  metadata = pd.read_csv(metadata_path)\n",
            "<ipython-input-4-ae55a887d5ac>:16: DeprecationWarning: DataFrameGroupBy.apply operated on the grouping columns. This behavior is deprecated, and in a future version of pandas the grouping columns will be excluded from the operation. Either pass `include_groups=False` to exclude the groupings or explicitly select the grouping columns after groupby to silence this warning.\n",
            "  metadata_sampled = metadata.groupby('target', group_keys=False).apply(lambda x: x.sample(frac=0.1, random_state=42))\n"
          ]
        },
        {
          "output_type": "stream",
          "name": "stdout",
          "text": [
            "Original data size: 401059\n",
            "Sampled data size: 40106\n"
          ]
        },
        {
          "output_type": "stream",
          "name": "stderr",
          "text": [
            "100%|██████████| 24063/24063 [00:53<00:00, 451.75it/s]\n",
            "100%|██████████| 8021/8021 [00:12<00:00, 645.90it/s]\n",
            "100%|██████████| 8022/8022 [00:28<00:00, 278.31it/s]\n"
          ]
        }
      ]
    }
  ]
}